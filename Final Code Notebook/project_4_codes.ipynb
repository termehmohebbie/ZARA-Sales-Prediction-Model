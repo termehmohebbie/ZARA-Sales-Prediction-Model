{
 "cells": [
  {
   "cell_type": "code",
   "execution_count": 40,
   "id": "938576ca",
   "metadata": {},
   "outputs": [],
   "source": [
    "from pathlib import Path\n",
    "import pandas as pd\n",
    "import numpy as np\n",
    "import time\n",
    "import math\n",
    "from matplotlib import pyplot as plt\n",
    "import hvplot.pandas\n",
    "from sklearn.decomposition import PCA\n",
    "\n",
    "from sklearn.ensemble import RandomForestRegressor\n",
    "from sklearn.metrics import mean_squared_error\n",
    "from math import sqrt\n",
    "from sklearn.metrics import r2_score\n",
    "from xgboost import XGBRegressor\n",
    "from sklearn.preprocessing import StandardScaler\n",
    "from sklearn.cluster import KMeans\n",
    "from tensorflow_addons.metrics import RSquare\n",
    "from keras import models, layers"
   ]
  },
  {
   "cell_type": "markdown",
   "id": "43a016ca",
   "metadata": {},
   "source": [
    "# Part 1. Explotary Data Analysis and Feature Engineering / Data Transformation \n",
    "# Part 2. Model Building ( Model Experiments)\n",
    "# Part 3. Accuracy for top 100 products (by revenue) predicted vs actual"
   ]
  },
  {
   "cell_type": "code",
   "execution_count": null,
   "id": "84274efe",
   "metadata": {},
   "outputs": [],
   "source": []
  },
  {
   "cell_type": "markdown",
   "id": "c6b212cf",
   "metadata": {},
   "source": [
    "### Part 1. Explotary Data Analysis and Feature Engineering / Data Transformation \n"
   ]
  },
  {
   "cell_type": "code",
   "execution_count": null,
   "id": "25ddb868",
   "metadata": {},
   "outputs": [],
   "source": [
    "positions = pd.read_csv('Data/positions.csv')\n",
    "product_blocks = pd.read_csv('Data/product_blocks.csv')\n",
    "products = pd.read_csv('Data/products.csv')\n",
    "sales_stock = pd.read_csv('Data/sales_stock.csv')\n"
   ]
  },
  {
   "cell_type": "code",
   "execution_count": 9,
   "id": "2c7429b3",
   "metadata": {},
   "outputs": [
    {
     "name": "stdout",
     "output_type": "stream",
     "text": [
      "Number of positions :954\n",
      "Number of products :15238\n",
      "Number of blocks :2776\n",
      "Number of family :84\n",
      "Number of subfamily :288\n",
      "Number of days :92\n"
     ]
    }
   ],
   "source": [
    "#Some statistics of the datasets\n",
    "\n",
    "num_positions=positions['position'].nunique()\n",
    "num_days=sales_stock['date_number'].nunique()\n",
    "num_products=products['product_id'].nunique()\n",
    "num_blocks=product_blocks['block_id'].nunique()\n",
    "num_family=products['family_id'].nunique()\n",
    "num_subfamily=products['subfamily_id'].nunique()\n",
    "\n",
    "print(f'Number of positions :{num_positions}')\n",
    "print(f'Number of products :{num_products}')\n",
    "print(f'Number of blocks :{num_blocks}')\n",
    "print(f'Number of family :{num_family}')\n",
    "print(f'Number of subfamily :{num_subfamily}')\n",
    "print(f'Number of days :{num_days}')"
   ]
  },
  {
   "cell_type": "code",
   "execution_count": 10,
   "id": "9470ae37",
   "metadata": {
    "scrolled": true
   },
   "outputs": [
    {
     "data": {
      "text/html": [
       "<div>\n",
       "<style scoped>\n",
       "    .dataframe tbody tr th:only-of-type {\n",
       "        vertical-align: middle;\n",
       "    }\n",
       "\n",
       "    .dataframe tbody tr th {\n",
       "        vertical-align: top;\n",
       "    }\n",
       "\n",
       "    .dataframe thead th {\n",
       "        text-align: right;\n",
       "    }\n",
       "</style>\n",
       "<table border=\"1\" class=\"dataframe\">\n",
       "  <thead>\n",
       "    <tr style=\"text-align: right;\">\n",
       "      <th></th>\n",
       "      <th>date_number</th>\n",
       "      <th>product_id</th>\n",
       "      <th>category_id</th>\n",
       "      <th>position</th>\n",
       "    </tr>\n",
       "  </thead>\n",
       "  <tbody>\n",
       "    <tr>\n",
       "      <th>0</th>\n",
       "      <td>0</td>\n",
       "      <td>4450020</td>\n",
       "      <td>4461548</td>\n",
       "      <td>17</td>\n",
       "    </tr>\n",
       "    <tr>\n",
       "      <th>1</th>\n",
       "      <td>0</td>\n",
       "      <td>42147334</td>\n",
       "      <td>4461548</td>\n",
       "      <td>4</td>\n",
       "    </tr>\n",
       "    <tr>\n",
       "      <th>2</th>\n",
       "      <td>0</td>\n",
       "      <td>81131830</td>\n",
       "      <td>4461548</td>\n",
       "      <td>35</td>\n",
       "    </tr>\n",
       "    <tr>\n",
       "      <th>3</th>\n",
       "      <td>0</td>\n",
       "      <td>84035833</td>\n",
       "      <td>4461548</td>\n",
       "      <td>38</td>\n",
       "    </tr>\n",
       "    <tr>\n",
       "      <th>4</th>\n",
       "      <td>0</td>\n",
       "      <td>125252584</td>\n",
       "      <td>4461548</td>\n",
       "      <td>39</td>\n",
       "    </tr>\n",
       "  </tbody>\n",
       "</table>\n",
       "</div>"
      ],
      "text/plain": [
       "   date_number  product_id  category_id  position\n",
       "0            0     4450020      4461548        17\n",
       "1            0    42147334      4461548         4\n",
       "2            0    81131830      4461548        35\n",
       "3            0    84035833      4461548        38\n",
       "4            0   125252584      4461548        39"
      ]
     },
     "execution_count": 10,
     "metadata": {},
     "output_type": "execute_result"
    }
   ],
   "source": [
    "#Position column indicates that position for a specific product changes througout the given day \n",
    "#position refers to the position on the website\n",
    "\n",
    "positions.loc[ (positions['product_id'] == 4450020) & ( positions['date_number'] == 2 ), :]\n",
    "\n",
    "positions.head()"
   ]
  },
  {
   "cell_type": "code",
   "execution_count": 11,
   "id": "b867385e",
   "metadata": {
    "scrolled": true
   },
   "outputs": [
    {
     "data": {
      "text/html": [
       "<div>\n",
       "<style scoped>\n",
       "    .dataframe tbody tr th:only-of-type {\n",
       "        vertical-align: middle;\n",
       "    }\n",
       "\n",
       "    .dataframe tbody tr th {\n",
       "        vertical-align: top;\n",
       "    }\n",
       "\n",
       "    .dataframe thead th {\n",
       "        text-align: right;\n",
       "    }\n",
       "</style>\n",
       "<table border=\"1\" class=\"dataframe\">\n",
       "  <thead>\n",
       "    <tr style=\"text-align: right;\">\n",
       "      <th></th>\n",
       "      <th>date_number</th>\n",
       "      <th>product_id</th>\n",
       "      <th>position</th>\n",
       "    </tr>\n",
       "  </thead>\n",
       "  <tbody>\n",
       "    <tr>\n",
       "      <th>0</th>\n",
       "      <td>0</td>\n",
       "      <td>310130</td>\n",
       "      <td>3</td>\n",
       "    </tr>\n",
       "    <tr>\n",
       "      <th>1</th>\n",
       "      <td>0</td>\n",
       "      <td>1178388</td>\n",
       "      <td>1</td>\n",
       "    </tr>\n",
       "    <tr>\n",
       "      <th>2</th>\n",
       "      <td>0</td>\n",
       "      <td>1561460</td>\n",
       "      <td>3</td>\n",
       "    </tr>\n",
       "    <tr>\n",
       "      <th>3</th>\n",
       "      <td>0</td>\n",
       "      <td>1874414</td>\n",
       "      <td>6</td>\n",
       "    </tr>\n",
       "    <tr>\n",
       "      <th>4</th>\n",
       "      <td>0</td>\n",
       "      <td>2094841</td>\n",
       "      <td>4</td>\n",
       "    </tr>\n",
       "  </tbody>\n",
       "</table>\n",
       "</div>"
      ],
      "text/plain": [
       "   date_number  product_id  position\n",
       "0            0      310130         3\n",
       "1            0     1178388         1\n",
       "2            0     1561460         3\n",
       "3            0     1874414         6\n",
       "4            0     2094841         4"
      ]
     },
     "execution_count": 11,
     "metadata": {},
     "output_type": "execute_result"
    }
   ],
   "source": [
    "# pos_count: number of categories where each product appears\n",
    "pos_count=pd.DataFrame(positions.groupby(['date_number','product_id']).count()['position']).reset_index()\n",
    "pos_count.head()"
   ]
  },
  {
   "cell_type": "code",
   "execution_count": 12,
   "id": "c224ce5d",
   "metadata": {},
   "outputs": [
    {
     "data": {
      "text/html": [
       "<div>\n",
       "<style scoped>\n",
       "    .dataframe tbody tr th:only-of-type {\n",
       "        vertical-align: middle;\n",
       "    }\n",
       "\n",
       "    .dataframe tbody tr th {\n",
       "        vertical-align: top;\n",
       "    }\n",
       "\n",
       "    .dataframe thead th {\n",
       "        text-align: right;\n",
       "    }\n",
       "</style>\n",
       "<table border=\"1\" class=\"dataframe\">\n",
       "  <thead>\n",
       "    <tr style=\"text-align: right;\">\n",
       "      <th></th>\n",
       "      <th>date_number</th>\n",
       "      <th>product_id</th>\n",
       "      <th>position</th>\n",
       "    </tr>\n",
       "  </thead>\n",
       "  <tbody>\n",
       "    <tr>\n",
       "      <th>0</th>\n",
       "      <td>0</td>\n",
       "      <td>310130</td>\n",
       "      <td>3</td>\n",
       "    </tr>\n",
       "    <tr>\n",
       "      <th>1</th>\n",
       "      <td>0</td>\n",
       "      <td>1178388</td>\n",
       "      <td>19</td>\n",
       "    </tr>\n",
       "    <tr>\n",
       "      <th>2</th>\n",
       "      <td>0</td>\n",
       "      <td>1561460</td>\n",
       "      <td>3</td>\n",
       "    </tr>\n",
       "    <tr>\n",
       "      <th>3</th>\n",
       "      <td>0</td>\n",
       "      <td>1874414</td>\n",
       "      <td>12</td>\n",
       "    </tr>\n",
       "    <tr>\n",
       "      <th>4</th>\n",
       "      <td>0</td>\n",
       "      <td>2094841</td>\n",
       "      <td>48</td>\n",
       "    </tr>\n",
       "  </tbody>\n",
       "</table>\n",
       "</div>"
      ],
      "text/plain": [
       "   date_number  product_id  position\n",
       "0            0      310130         3\n",
       "1            0     1178388        19\n",
       "2            0     1561460         3\n",
       "3            0     1874414        12\n",
       "4            0     2094841        48"
      ]
     },
     "execution_count": 12,
     "metadata": {},
     "output_type": "execute_result"
    }
   ],
   "source": [
    "#pos_min: minimum (best) position of each product\n",
    "\n",
    "pos_min=pd.DataFrame(positions.groupby(['date_number','product_id']).min()['position']\n",
    ").reset_index()\n",
    "\n",
    "pos_min.head() "
   ]
  },
  {
   "cell_type": "code",
   "execution_count": 13,
   "id": "1747dc75",
   "metadata": {
    "scrolled": true
   },
   "outputs": [
    {
     "data": {
      "text/html": [
       "<div>\n",
       "<style scoped>\n",
       "    .dataframe tbody tr th:only-of-type {\n",
       "        vertical-align: middle;\n",
       "    }\n",
       "\n",
       "    .dataframe tbody tr th {\n",
       "        vertical-align: top;\n",
       "    }\n",
       "\n",
       "    .dataframe thead th {\n",
       "        text-align: right;\n",
       "    }\n",
       "</style>\n",
       "<table border=\"1\" class=\"dataframe\">\n",
       "  <thead>\n",
       "    <tr style=\"text-align: right;\">\n",
       "      <th></th>\n",
       "      <th>date_number</th>\n",
       "      <th>product_id</th>\n",
       "      <th>position</th>\n",
       "    </tr>\n",
       "  </thead>\n",
       "  <tbody>\n",
       "    <tr>\n",
       "      <th>0</th>\n",
       "      <td>0</td>\n",
       "      <td>310130</td>\n",
       "      <td>80</td>\n",
       "    </tr>\n",
       "    <tr>\n",
       "      <th>1</th>\n",
       "      <td>0</td>\n",
       "      <td>1178388</td>\n",
       "      <td>19</td>\n",
       "    </tr>\n",
       "    <tr>\n",
       "      <th>2</th>\n",
       "      <td>0</td>\n",
       "      <td>1561460</td>\n",
       "      <td>38</td>\n",
       "    </tr>\n",
       "    <tr>\n",
       "      <th>3</th>\n",
       "      <td>0</td>\n",
       "      <td>1874414</td>\n",
       "      <td>190</td>\n",
       "    </tr>\n",
       "    <tr>\n",
       "      <th>4</th>\n",
       "      <td>0</td>\n",
       "      <td>2094841</td>\n",
       "      <td>204</td>\n",
       "    </tr>\n",
       "  </tbody>\n",
       "</table>\n",
       "</div>"
      ],
      "text/plain": [
       "   date_number  product_id  position\n",
       "0            0      310130        80\n",
       "1            0     1178388        19\n",
       "2            0     1561460        38\n",
       "3            0     1874414       190\n",
       "4            0     2094841       204"
      ]
     },
     "execution_count": 13,
     "metadata": {},
     "output_type": "execute_result"
    }
   ],
   "source": [
    "# pos_max: maximum (worst) position of each product\n",
    "\n",
    "pos_max=pd.DataFrame(positions.groupby(['date_number','product_id']).max()['position']\n",
    ").reset_index()\n",
    "\n",
    "pos_max.head()"
   ]
  },
  {
   "cell_type": "code",
   "execution_count": 14,
   "id": "a46086e2",
   "metadata": {},
   "outputs": [
    {
     "data": {
      "text/html": [
       "<div>\n",
       "<style scoped>\n",
       "    .dataframe tbody tr th:only-of-type {\n",
       "        vertical-align: middle;\n",
       "    }\n",
       "\n",
       "    .dataframe tbody tr th {\n",
       "        vertical-align: top;\n",
       "    }\n",
       "\n",
       "    .dataframe thead th {\n",
       "        text-align: right;\n",
       "    }\n",
       "</style>\n",
       "<table border=\"1\" class=\"dataframe\">\n",
       "  <thead>\n",
       "    <tr style=\"text-align: right;\">\n",
       "      <th></th>\n",
       "      <th>date_number</th>\n",
       "      <th>product_id</th>\n",
       "      <th>position</th>\n",
       "    </tr>\n",
       "  </thead>\n",
       "  <tbody>\n",
       "    <tr>\n",
       "      <th>0</th>\n",
       "      <td>0</td>\n",
       "      <td>310130</td>\n",
       "      <td>54.333333</td>\n",
       "    </tr>\n",
       "    <tr>\n",
       "      <th>1</th>\n",
       "      <td>0</td>\n",
       "      <td>1178388</td>\n",
       "      <td>19.000000</td>\n",
       "    </tr>\n",
       "    <tr>\n",
       "      <th>2</th>\n",
       "      <td>0</td>\n",
       "      <td>1561460</td>\n",
       "      <td>20.000000</td>\n",
       "    </tr>\n",
       "    <tr>\n",
       "      <th>3</th>\n",
       "      <td>0</td>\n",
       "      <td>1874414</td>\n",
       "      <td>64.666667</td>\n",
       "    </tr>\n",
       "    <tr>\n",
       "      <th>4</th>\n",
       "      <td>0</td>\n",
       "      <td>2094841</td>\n",
       "      <td>130.250000</td>\n",
       "    </tr>\n",
       "  </tbody>\n",
       "</table>\n",
       "</div>"
      ],
      "text/plain": [
       "   date_number  product_id    position\n",
       "0            0      310130   54.333333\n",
       "1            0     1178388   19.000000\n",
       "2            0     1561460   20.000000\n",
       "3            0     1874414   64.666667\n",
       "4            0     2094841  130.250000"
      ]
     },
     "execution_count": 14,
     "metadata": {},
     "output_type": "execute_result"
    }
   ],
   "source": [
    "# pos_mean: mean position of each product\n",
    "pos_mean=pd.DataFrame(positions.groupby(['date_number','product_id']).mean()['position']).reset_index()\n",
    "                                      \n",
    "pos_mean.head()   "
   ]
  },
  {
   "cell_type": "code",
   "execution_count": 15,
   "id": "152e0775",
   "metadata": {},
   "outputs": [
    {
     "data": {
      "text/html": [
       "<div>\n",
       "<style scoped>\n",
       "    .dataframe tbody tr th:only-of-type {\n",
       "        vertical-align: middle;\n",
       "    }\n",
       "\n",
       "    .dataframe tbody tr th {\n",
       "        vertical-align: top;\n",
       "    }\n",
       "\n",
       "    .dataframe thead th {\n",
       "        text-align: right;\n",
       "    }\n",
       "</style>\n",
       "<table border=\"1\" class=\"dataframe\">\n",
       "  <thead>\n",
       "    <tr style=\"text-align: right;\">\n",
       "      <th></th>\n",
       "      <th>date_number</th>\n",
       "      <th>product_id</th>\n",
       "      <th>pos_count</th>\n",
       "      <th>pos_min</th>\n",
       "      <th>pos_max</th>\n",
       "      <th>pos_mean</th>\n",
       "    </tr>\n",
       "  </thead>\n",
       "  <tbody>\n",
       "    <tr>\n",
       "      <th>0</th>\n",
       "      <td>0</td>\n",
       "      <td>310130</td>\n",
       "      <td>3</td>\n",
       "      <td>3</td>\n",
       "      <td>80</td>\n",
       "      <td>54.333333</td>\n",
       "    </tr>\n",
       "    <tr>\n",
       "      <th>1</th>\n",
       "      <td>0</td>\n",
       "      <td>1178388</td>\n",
       "      <td>1</td>\n",
       "      <td>19</td>\n",
       "      <td>19</td>\n",
       "      <td>19.000000</td>\n",
       "    </tr>\n",
       "    <tr>\n",
       "      <th>2</th>\n",
       "      <td>0</td>\n",
       "      <td>1561460</td>\n",
       "      <td>3</td>\n",
       "      <td>3</td>\n",
       "      <td>38</td>\n",
       "      <td>20.000000</td>\n",
       "    </tr>\n",
       "    <tr>\n",
       "      <th>3</th>\n",
       "      <td>0</td>\n",
       "      <td>1874414</td>\n",
       "      <td>6</td>\n",
       "      <td>12</td>\n",
       "      <td>190</td>\n",
       "      <td>64.666667</td>\n",
       "    </tr>\n",
       "    <tr>\n",
       "      <th>4</th>\n",
       "      <td>0</td>\n",
       "      <td>2094841</td>\n",
       "      <td>4</td>\n",
       "      <td>48</td>\n",
       "      <td>204</td>\n",
       "      <td>130.250000</td>\n",
       "    </tr>\n",
       "  </tbody>\n",
       "</table>\n",
       "</div>"
      ],
      "text/plain": [
       "   date_number  product_id  pos_count  pos_min  pos_max    pos_mean\n",
       "0            0      310130          3        3       80   54.333333\n",
       "1            0     1178388          1       19       19   19.000000\n",
       "2            0     1561460          3        3       38   20.000000\n",
       "3            0     1874414          6       12      190   64.666667\n",
       "4            0     2094841          4       48      204  130.250000"
      ]
     },
     "execution_count": 15,
     "metadata": {},
     "output_type": "execute_result"
    }
   ],
   "source": [
    "# Adding pos_count, pos_min, pos_max and pos_mean to the positions dataset\n",
    "positions_final=pos_count.copy().rename(columns={\"position\": \"pos_count\"})\n",
    "positions_final['pos_min']=pos_min['position']\n",
    "positions_final['pos_max']=pos_max['position']\n",
    "positions_final['pos_mean']=pos_mean['position']\n",
    "\n",
    "positions_final.head()"
   ]
  },
  {
   "cell_type": "code",
   "execution_count": 16,
   "id": "5050c4fc",
   "metadata": {},
   "outputs": [
    {
     "data": {
      "text/html": [
       "<div>\n",
       "<style scoped>\n",
       "    .dataframe tbody tr th:only-of-type {\n",
       "        vertical-align: middle;\n",
       "    }\n",
       "\n",
       "    .dataframe tbody tr th {\n",
       "        vertical-align: top;\n",
       "    }\n",
       "\n",
       "    .dataframe thead th {\n",
       "        text-align: right;\n",
       "    }\n",
       "</style>\n",
       "<table border=\"1\" class=\"dataframe\">\n",
       "  <thead>\n",
       "    <tr style=\"text-align: right;\">\n",
       "      <th></th>\n",
       "      <th>product_id</th>\n",
       "      <th>block_id</th>\n",
       "    </tr>\n",
       "  </thead>\n",
       "  <tbody>\n",
       "    <tr>\n",
       "      <th>0</th>\n",
       "      <td>612967398</td>\n",
       "      <td>0</td>\n",
       "    </tr>\n",
       "    <tr>\n",
       "      <th>1</th>\n",
       "      <td>296892108</td>\n",
       "      <td>0</td>\n",
       "    </tr>\n",
       "    <tr>\n",
       "      <th>2</th>\n",
       "      <td>139541214</td>\n",
       "      <td>0</td>\n",
       "    </tr>\n",
       "    <tr>\n",
       "      <th>3</th>\n",
       "      <td>963923934</td>\n",
       "      <td>0</td>\n",
       "    </tr>\n",
       "    <tr>\n",
       "      <th>4</th>\n",
       "      <td>938230141</td>\n",
       "      <td>0</td>\n",
       "    </tr>\n",
       "    <tr>\n",
       "      <th>5</th>\n",
       "      <td>172045154</td>\n",
       "      <td>0</td>\n",
       "    </tr>\n",
       "    <tr>\n",
       "      <th>6</th>\n",
       "      <td>663552768</td>\n",
       "      <td>0</td>\n",
       "    </tr>\n",
       "  </tbody>\n",
       "</table>\n",
       "</div>"
      ],
      "text/plain": [
       "   product_id  block_id\n",
       "0   612967398         0\n",
       "1   296892108         0\n",
       "2   139541214         0\n",
       "3   963923934         0\n",
       "4   938230141         0\n",
       "5   172045154         0\n",
       "6   663552768         0"
      ]
     },
     "execution_count": 16,
     "metadata": {},
     "output_type": "execute_result"
    }
   ],
   "source": [
    "# Each block contains multiple products \n",
    "\n",
    "product_blocks.loc[ (product_blocks['block_id'] == 0) , :].sort_values('block_id')"
   ]
  },
  {
   "cell_type": "code",
   "execution_count": 17,
   "id": "4a9cd45c",
   "metadata": {},
   "outputs": [
    {
     "data": {
      "text/html": [
       "<div>\n",
       "<style scoped>\n",
       "    .dataframe tbody tr th:only-of-type {\n",
       "        vertical-align: middle;\n",
       "    }\n",
       "\n",
       "    .dataframe tbody tr th {\n",
       "        vertical-align: top;\n",
       "    }\n",
       "\n",
       "    .dataframe thead th {\n",
       "        text-align: right;\n",
       "    }\n",
       "</style>\n",
       "<table border=\"1\" class=\"dataframe\">\n",
       "  <thead>\n",
       "    <tr style=\"text-align: right;\">\n",
       "      <th></th>\n",
       "      <th>product_id</th>\n",
       "      <th>block_id</th>\n",
       "      <th>num_items</th>\n",
       "    </tr>\n",
       "  </thead>\n",
       "  <tbody>\n",
       "    <tr>\n",
       "      <th>0</th>\n",
       "      <td>612967398</td>\n",
       "      <td>0</td>\n",
       "      <td>7</td>\n",
       "    </tr>\n",
       "    <tr>\n",
       "      <th>1</th>\n",
       "      <td>296892108</td>\n",
       "      <td>0</td>\n",
       "      <td>7</td>\n",
       "    </tr>\n",
       "    <tr>\n",
       "      <th>2</th>\n",
       "      <td>139541214</td>\n",
       "      <td>0</td>\n",
       "      <td>7</td>\n",
       "    </tr>\n",
       "    <tr>\n",
       "      <th>3</th>\n",
       "      <td>963923934</td>\n",
       "      <td>0</td>\n",
       "      <td>7</td>\n",
       "    </tr>\n",
       "    <tr>\n",
       "      <th>4</th>\n",
       "      <td>938230141</td>\n",
       "      <td>0</td>\n",
       "      <td>7</td>\n",
       "    </tr>\n",
       "  </tbody>\n",
       "</table>\n",
       "</div>"
      ],
      "text/plain": [
       "   product_id  block_id  num_items\n",
       "0   612967398         0          7\n",
       "1   296892108         0          7\n",
       "2   139541214         0          7\n",
       "3   963923934         0          7\n",
       "4   938230141         0          7"
      ]
     },
     "execution_count": 17,
     "metadata": {},
     "output_type": "execute_result"
    }
   ],
   "source": [
    "# Adding number of items in a block as new feature to the block data\n",
    "\n",
    "blocks_aux = product_blocks.groupby( 'block_id' ).count()['product_id'].reset_index()\n",
    "blocks_aux.rename(columns={'product_id': 'num_items'}, inplace=True)\n",
    "blocks_final = pd.merge(product_blocks, blocks_aux, on='block_id')\n",
    "blocks_final.head() "
   ]
  },
  {
   "cell_type": "code",
   "execution_count": 18,
   "id": "ead00740",
   "metadata": {},
   "outputs": [
    {
     "data": {
      "text/html": [
       "<div>\n",
       "<style scoped>\n",
       "    .dataframe tbody tr th:only-of-type {\n",
       "        vertical-align: middle;\n",
       "    }\n",
       "\n",
       "    .dataframe tbody tr th {\n",
       "        vertical-align: top;\n",
       "    }\n",
       "\n",
       "    .dataframe thead th {\n",
       "        text-align: right;\n",
       "    }\n",
       "</style>\n",
       "<table border=\"1\" class=\"dataframe\">\n",
       "  <thead>\n",
       "    <tr style=\"text-align: right;\">\n",
       "      <th></th>\n",
       "      <th>date_number</th>\n",
       "      <th>product_id</th>\n",
       "      <th>sales</th>\n",
       "      <th>stock</th>\n",
       "    </tr>\n",
       "  </thead>\n",
       "  <tbody>\n",
       "    <tr>\n",
       "      <th>0</th>\n",
       "      <td>0</td>\n",
       "      <td>310130</td>\n",
       "      <td>11</td>\n",
       "      <td>461</td>\n",
       "    </tr>\n",
       "    <tr>\n",
       "      <th>1</th>\n",
       "      <td>0</td>\n",
       "      <td>1178388</td>\n",
       "      <td>0</td>\n",
       "      <td>60</td>\n",
       "    </tr>\n",
       "    <tr>\n",
       "      <th>2</th>\n",
       "      <td>0</td>\n",
       "      <td>1561460</td>\n",
       "      <td>7</td>\n",
       "      <td>791</td>\n",
       "    </tr>\n",
       "    <tr>\n",
       "      <th>3</th>\n",
       "      <td>0</td>\n",
       "      <td>1874414</td>\n",
       "      <td>4</td>\n",
       "      <td>281</td>\n",
       "    </tr>\n",
       "    <tr>\n",
       "      <th>4</th>\n",
       "      <td>0</td>\n",
       "      <td>2436420</td>\n",
       "      <td>0</td>\n",
       "      <td>245</td>\n",
       "    </tr>\n",
       "  </tbody>\n",
       "</table>\n",
       "</div>"
      ],
      "text/plain": [
       "   date_number  product_id  sales  stock\n",
       "0            0      310130     11    461\n",
       "1            0     1178388      0     60\n",
       "2            0     1561460      7    791\n",
       "3            0     1874414      4    281\n",
       "4            0     2436420      0    245"
      ]
     },
     "execution_count": 18,
     "metadata": {},
     "output_type": "execute_result"
    }
   ],
   "source": [
    "# Removing color_id and size_id columns and aggregating sales only by product_id\n",
    "stay_columns=['date_number','product_id']\n",
    "\n",
    "sales_final = sales_stock.groupby(stay_columns).agg( { 'sales': 'sum', 'stock': 'sum' } ).reset_index()\n",
    "sales_final.head()"
   ]
  },
  {
   "cell_type": "code",
   "execution_count": 19,
   "id": "4e2a43ec",
   "metadata": {},
   "outputs": [
    {
     "data": {
      "text/html": [
       "<div>\n",
       "<style scoped>\n",
       "    .dataframe tbody tr th:only-of-type {\n",
       "        vertical-align: middle;\n",
       "    }\n",
       "\n",
       "    .dataframe tbody tr th {\n",
       "        vertical-align: top;\n",
       "    }\n",
       "\n",
       "    .dataframe thead th {\n",
       "        text-align: right;\n",
       "    }\n",
       "</style>\n",
       "<table border=\"1\" class=\"dataframe\">\n",
       "  <thead>\n",
       "    <tr style=\"text-align: right;\">\n",
       "      <th></th>\n",
       "      <th>date_number</th>\n",
       "      <th>product_id</th>\n",
       "      <th>sales</th>\n",
       "      <th>stock</th>\n",
       "      <th>pos_count</th>\n",
       "      <th>pos_min</th>\n",
       "      <th>pos_max</th>\n",
       "      <th>pos_mean</th>\n",
       "      <th>block_id</th>\n",
       "      <th>num_items</th>\n",
       "      <th>family_id</th>\n",
       "      <th>subfamily_id</th>\n",
       "      <th>price</th>\n",
       "    </tr>\n",
       "  </thead>\n",
       "  <tbody>\n",
       "    <tr>\n",
       "      <th>0</th>\n",
       "      <td>0</td>\n",
       "      <td>310130</td>\n",
       "      <td>11</td>\n",
       "      <td>461</td>\n",
       "      <td>3</td>\n",
       "      <td>3</td>\n",
       "      <td>80</td>\n",
       "      <td>54.333333</td>\n",
       "      <td>1726</td>\n",
       "      <td>8</td>\n",
       "      <td>679611953</td>\n",
       "      <td>533441312</td>\n",
       "      <td>12.95</td>\n",
       "    </tr>\n",
       "    <tr>\n",
       "      <th>1</th>\n",
       "      <td>1</td>\n",
       "      <td>310130</td>\n",
       "      <td>13</td>\n",
       "      <td>437</td>\n",
       "      <td>3</td>\n",
       "      <td>2</td>\n",
       "      <td>3</td>\n",
       "      <td>2.666667</td>\n",
       "      <td>1726</td>\n",
       "      <td>8</td>\n",
       "      <td>679611953</td>\n",
       "      <td>533441312</td>\n",
       "      <td>12.95</td>\n",
       "    </tr>\n",
       "    <tr>\n",
       "      <th>2</th>\n",
       "      <td>2</td>\n",
       "      <td>310130</td>\n",
       "      <td>14</td>\n",
       "      <td>435</td>\n",
       "      <td>3</td>\n",
       "      <td>2</td>\n",
       "      <td>8</td>\n",
       "      <td>6.000000</td>\n",
       "      <td>1726</td>\n",
       "      <td>8</td>\n",
       "      <td>679611953</td>\n",
       "      <td>533441312</td>\n",
       "      <td>12.95</td>\n",
       "    </tr>\n",
       "    <tr>\n",
       "      <th>3</th>\n",
       "      <td>3</td>\n",
       "      <td>310130</td>\n",
       "      <td>15</td>\n",
       "      <td>410</td>\n",
       "      <td>3</td>\n",
       "      <td>4</td>\n",
       "      <td>8</td>\n",
       "      <td>6.666667</td>\n",
       "      <td>1726</td>\n",
       "      <td>8</td>\n",
       "      <td>679611953</td>\n",
       "      <td>533441312</td>\n",
       "      <td>12.95</td>\n",
       "    </tr>\n",
       "    <tr>\n",
       "      <th>4</th>\n",
       "      <td>4</td>\n",
       "      <td>310130</td>\n",
       "      <td>17</td>\n",
       "      <td>538</td>\n",
       "      <td>3</td>\n",
       "      <td>4</td>\n",
       "      <td>8</td>\n",
       "      <td>6.666667</td>\n",
       "      <td>1726</td>\n",
       "      <td>8</td>\n",
       "      <td>679611953</td>\n",
       "      <td>533441312</td>\n",
       "      <td>12.95</td>\n",
       "    </tr>\n",
       "  </tbody>\n",
       "</table>\n",
       "</div>"
      ],
      "text/plain": [
       "   date_number  product_id  sales  stock  pos_count  pos_min  pos_max  \\\n",
       "0            0      310130     11    461          3        3       80   \n",
       "1            1      310130     13    437          3        2        3   \n",
       "2            2      310130     14    435          3        2        8   \n",
       "3            3      310130     15    410          3        4        8   \n",
       "4            4      310130     17    538          3        4        8   \n",
       "\n",
       "    pos_mean  block_id  num_items  family_id  subfamily_id  price  \n",
       "0  54.333333      1726          8  679611953     533441312  12.95  \n",
       "1   2.666667      1726          8  679611953     533441312  12.95  \n",
       "2   6.000000      1726          8  679611953     533441312  12.95  \n",
       "3   6.666667      1726          8  679611953     533441312  12.95  \n",
       "4   6.666667      1726          8  679611953     533441312  12.95  "
      ]
     },
     "execution_count": 19,
     "metadata": {},
     "output_type": "execute_result"
    }
   ],
   "source": [
    "# Merging the all transformed datasets \n",
    "\n",
    "df_final=pd.merge(sales_final, positions_final, on=['date_number','product_id'], how='inner')\\\n",
    ".merge(blocks_final, on='product_id', how='inner' ).merge(products, on='product_id', how='inner' )\n",
    "df_final.head()\n"
   ]
  },
  {
   "cell_type": "code",
   "execution_count": 20,
   "id": "04a6437c",
   "metadata": {},
   "outputs": [
    {
     "data": {
      "text/html": [
       "<div>\n",
       "<style scoped>\n",
       "    .dataframe tbody tr th:only-of-type {\n",
       "        vertical-align: middle;\n",
       "    }\n",
       "\n",
       "    .dataframe tbody tr th {\n",
       "        vertical-align: top;\n",
       "    }\n",
       "\n",
       "    .dataframe thead th {\n",
       "        text-align: right;\n",
       "    }\n",
       "</style>\n",
       "<table border=\"1\" class=\"dataframe\">\n",
       "  <thead>\n",
       "    <tr style=\"text-align: right;\">\n",
       "      <th></th>\n",
       "      <th>product_id</th>\n",
       "      <th>num_items</th>\n",
       "      <th>stock</th>\n",
       "      <th>price</th>\n",
       "      <th>pos_count</th>\n",
       "    </tr>\n",
       "  </thead>\n",
       "  <tbody>\n",
       "    <tr>\n",
       "      <th>0</th>\n",
       "      <td>310130</td>\n",
       "      <td>8</td>\n",
       "      <td>341</td>\n",
       "      <td>12.95</td>\n",
       "      <td>1</td>\n",
       "    </tr>\n",
       "    <tr>\n",
       "      <th>1</th>\n",
       "      <td>1561460</td>\n",
       "      <td>9</td>\n",
       "      <td>448</td>\n",
       "      <td>29.95</td>\n",
       "      <td>3</td>\n",
       "    </tr>\n",
       "    <tr>\n",
       "      <th>2</th>\n",
       "      <td>1874414</td>\n",
       "      <td>3</td>\n",
       "      <td>246</td>\n",
       "      <td>25.95</td>\n",
       "      <td>6</td>\n",
       "    </tr>\n",
       "    <tr>\n",
       "      <th>3</th>\n",
       "      <td>2644529</td>\n",
       "      <td>4</td>\n",
       "      <td>201</td>\n",
       "      <td>7.95</td>\n",
       "      <td>2</td>\n",
       "    </tr>\n",
       "    <tr>\n",
       "      <th>4</th>\n",
       "      <td>3176725</td>\n",
       "      <td>9</td>\n",
       "      <td>331</td>\n",
       "      <td>29.95</td>\n",
       "      <td>3</td>\n",
       "    </tr>\n",
       "  </tbody>\n",
       "</table>\n",
       "</div>"
      ],
      "text/plain": [
       "   product_id  num_items  stock  price  pos_count\n",
       "0      310130          8    341  12.95          1\n",
       "1     1561460          9    448  29.95          3\n",
       "2     1874414          3    246  25.95          6\n",
       "3     2644529          4    201   7.95          2\n",
       "4     3176725          9    331  29.95          3"
      ]
     },
     "execution_count": 20,
     "metadata": {},
     "output_type": "execute_result"
    }
   ],
   "source": [
    "# Using ML , clustering day 84 (last day in training in the dataset)\n",
    "\n",
    "df_84_cluster_data = df_final.loc[ df_final['date_number'] == 84, ['product_id', 'num_items', 'stock', 'price', 'pos_count'] ].reset_index(drop=True)\n",
    "df_84_cluster_data.head()\n"
   ]
  },
  {
   "cell_type": "code",
   "execution_count": 21,
   "id": "e6377a50",
   "metadata": {},
   "outputs": [
    {
     "data": {
      "text/html": [
       "<div>\n",
       "<style scoped>\n",
       "    .dataframe tbody tr th:only-of-type {\n",
       "        vertical-align: middle;\n",
       "    }\n",
       "\n",
       "    .dataframe tbody tr th {\n",
       "        vertical-align: top;\n",
       "    }\n",
       "\n",
       "    .dataframe thead th {\n",
       "        text-align: right;\n",
       "    }\n",
       "</style>\n",
       "<table border=\"1\" class=\"dataframe\">\n",
       "  <thead>\n",
       "    <tr style=\"text-align: right;\">\n",
       "      <th></th>\n",
       "      <th>num_items</th>\n",
       "      <th>stock</th>\n",
       "      <th>price</th>\n",
       "      <th>pos_count</th>\n",
       "    </tr>\n",
       "  </thead>\n",
       "  <tbody>\n",
       "    <tr>\n",
       "      <th>0</th>\n",
       "      <td>8</td>\n",
       "      <td>341</td>\n",
       "      <td>12.95</td>\n",
       "      <td>1</td>\n",
       "    </tr>\n",
       "    <tr>\n",
       "      <th>1</th>\n",
       "      <td>9</td>\n",
       "      <td>448</td>\n",
       "      <td>29.95</td>\n",
       "      <td>3</td>\n",
       "    </tr>\n",
       "    <tr>\n",
       "      <th>2</th>\n",
       "      <td>3</td>\n",
       "      <td>246</td>\n",
       "      <td>25.95</td>\n",
       "      <td>6</td>\n",
       "    </tr>\n",
       "    <tr>\n",
       "      <th>3</th>\n",
       "      <td>4</td>\n",
       "      <td>201</td>\n",
       "      <td>7.95</td>\n",
       "      <td>2</td>\n",
       "    </tr>\n",
       "    <tr>\n",
       "      <th>4</th>\n",
       "      <td>9</td>\n",
       "      <td>331</td>\n",
       "      <td>29.95</td>\n",
       "      <td>3</td>\n",
       "    </tr>\n",
       "  </tbody>\n",
       "</table>\n",
       "</div>"
      ],
      "text/plain": [
       "   num_items  stock  price  pos_count\n",
       "0          8    341  12.95          1\n",
       "1          9    448  29.95          3\n",
       "2          3    246  25.95          6\n",
       "3          4    201   7.95          2\n",
       "4          9    331  29.95          3"
      ]
     },
     "execution_count": 21,
     "metadata": {},
     "output_type": "execute_result"
    }
   ],
   "source": [
    "#Selecting only non-numerical features for clustering \n",
    "\n",
    "cluster_train_data_84 = df_84_cluster_data[ [ 'num_items', 'stock', 'price', 'pos_count' ] ]\n",
    "cluster_train_data_84.head()\n"
   ]
  },
  {
   "cell_type": "code",
   "execution_count": 22,
   "id": "421ae9c4",
   "metadata": {
    "scrolled": true
   },
   "outputs": [
    {
     "data": {
      "text/plain": [
       "array([[ 0.39713525,  0.17310426, -0.77149081, -1.05065654],\n",
       "       [ 0.8048482 ,  0.44042027,  0.28837576,  0.27464307],\n",
       "       [-1.64142951, -0.06423237,  0.03899539,  2.26259248],\n",
       "       [-1.23371656, -0.17665499, -1.08321627, -0.38800674],\n",
       "       [ 0.8048482 ,  0.14812146,  0.28837576,  0.27464307]])"
      ]
     },
     "execution_count": 22,
     "metadata": {},
     "output_type": "execute_result"
    }
   ],
   "source": [
    "# Normalizing the data using standard scaler\n",
    "\n",
    "scaler = StandardScaler()\n",
    "scaled_data_84 = scaler.fit_transform(cluster_train_data_84)\n",
    "scaled_data_84[:5]\n"
   ]
  },
  {
   "cell_type": "code",
   "execution_count": 23,
   "id": "5f430b5c",
   "metadata": {},
   "outputs": [
    {
     "name": "stdout",
     "output_type": "stream",
     "text": [
      "Explained variance ratio with 2 principal components: [0.30170725 0.25002121]\n"
     ]
    }
   ],
   "source": [
    "# Using PCA for the cluster to get more clean cluster than K-means\n",
    "pca = PCA(n_components=2)\n",
    "cluster_train_data_84_pca = pca.fit_transform(scaled_data_84)\n",
    "variance_ratio = pca.explained_variance_ratio_\n",
    "print( f\"Explained variance ratio with 2 principal components: {variance_ratio}\" )"
   ]
  },
  {
   "cell_type": "code",
   "execution_count": 24,
   "id": "42810468",
   "metadata": {},
   "outputs": [
    {
     "data": {
      "image/png": "[encoded data removed]",
      "text/plain": [
       "<Figure size 432x288 with 1 Axes>"
      ]
     },
     "metadata": {
      "needs_background": "light"
     },
     "output_type": "display_data"
    }
   ],
   "source": [
    "# Finding k means and plotting the result\n",
    "\n",
    "inertia = []\n",
    "\n",
    "for k in range(2, 11):\n",
    "    kmeans = KMeans(n_clusters=k, random_state=0)\n",
    "    kmeans.fit( cluster_train_data_84_pca )\n",
    "    inertia.append(kmeans.inertia_)\n",
    "    \n",
    "plt.plot(range(2, 11), inertia)\n",
    "plt.title('Elbow Method')\n",
    "plt.xlabel('Number of clusters')\n",
    "plt.ylabel('Inertia')\n",
    "plt.show()"
   ]
  },
  {
   "cell_type": "code",
   "execution_count": 25,
   "id": "8d83548e",
   "metadata": {},
   "outputs": [
    {
     "data": {
      "text/html": [
       "<div>\n",
       "<style scoped>\n",
       "    .dataframe tbody tr th:only-of-type {\n",
       "        vertical-align: middle;\n",
       "    }\n",
       "\n",
       "    .dataframe tbody tr th {\n",
       "        vertical-align: top;\n",
       "    }\n",
       "\n",
       "    .dataframe thead th {\n",
       "        text-align: right;\n",
       "    }\n",
       "</style>\n",
       "<table border=\"1\" class=\"dataframe\">\n",
       "  <thead>\n",
       "    <tr style=\"text-align: right;\">\n",
       "      <th></th>\n",
       "      <th>product_id</th>\n",
       "      <th>num_items</th>\n",
       "      <th>stock</th>\n",
       "      <th>price</th>\n",
       "      <th>pos_count</th>\n",
       "      <th>cluster_labels</th>\n",
       "      <th>principal_component_1</th>\n",
       "      <th>principal_component_2</th>\n",
       "    </tr>\n",
       "  </thead>\n",
       "  <tbody>\n",
       "    <tr>\n",
       "      <th>0</th>\n",
       "      <td>310130</td>\n",
       "      <td>8</td>\n",
       "      <td>341</td>\n",
       "      <td>12.95</td>\n",
       "      <td>1</td>\n",
       "      <td>3</td>\n",
       "      <td>0.025018</td>\n",
       "      <td>-0.161967</td>\n",
       "    </tr>\n",
       "    <tr>\n",
       "      <th>1</th>\n",
       "      <td>1561460</td>\n",
       "      <td>9</td>\n",
       "      <td>448</td>\n",
       "      <td>29.95</td>\n",
       "      <td>3</td>\n",
       "      <td>3</td>\n",
       "      <td>0.092808</td>\n",
       "      <td>-0.757716</td>\n",
       "    </tr>\n",
       "    <tr>\n",
       "      <th>2</th>\n",
       "      <td>1874414</td>\n",
       "      <td>3</td>\n",
       "      <td>246</td>\n",
       "      <td>25.95</td>\n",
       "      <td>6</td>\n",
       "      <td>1</td>\n",
       "      <td>1.280072</td>\n",
       "      <td>1.035497</td>\n",
       "    </tr>\n",
       "    <tr>\n",
       "      <th>3</th>\n",
       "      <td>2644529</td>\n",
       "      <td>4</td>\n",
       "      <td>201</td>\n",
       "      <td>7.95</td>\n",
       "      <td>2</td>\n",
       "      <td>1</td>\n",
       "      <td>0.564468</td>\n",
       "      <td>1.178173</td>\n",
       "    </tr>\n",
       "    <tr>\n",
       "      <th>4</th>\n",
       "      <td>3176725</td>\n",
       "      <td>9</td>\n",
       "      <td>331</td>\n",
       "      <td>29.95</td>\n",
       "      <td>3</td>\n",
       "      <td>3</td>\n",
       "      <td>-0.057877</td>\n",
       "      <td>-0.797549</td>\n",
       "    </tr>\n",
       "  </tbody>\n",
       "</table>\n",
       "</div>"
      ],
      "text/plain": [
       "   product_id  num_items  stock  price  pos_count  cluster_labels  \\\n",
       "0      310130          8    341  12.95          1               3   \n",
       "1     1561460          9    448  29.95          3               3   \n",
       "2     1874414          3    246  25.95          6               1   \n",
       "3     2644529          4    201   7.95          2               1   \n",
       "4     3176725          9    331  29.95          3               3   \n",
       "\n",
       "   principal_component_1  principal_component_2  \n",
       "0               0.025018              -0.161967  \n",
       "1               0.092808              -0.757716  \n",
       "2               1.280072               1.035497  \n",
       "3               0.564468               1.178173  \n",
       "4              -0.057877              -0.797549  "
      ]
     },
     "execution_count": 25,
     "metadata": {},
     "output_type": "execute_result"
    }
   ],
   "source": [
    "# Adding the cluster column to the df_84_cluster_data\n",
    "\n",
    "kmeans = KMeans(n_clusters=4, random_state=0)\n",
    "kmeans.fit( pd.DataFrame(cluster_train_data_84_pca) )\n",
    "\n",
    "labels = kmeans.labels_\n",
    "df_84_cluster_data['cluster_labels'] = labels\n",
    "df_84_cluster_data['principal_component_1'] = cluster_train_data_84_pca[:, 0]\n",
    "df_84_cluster_data['principal_component_2'] = cluster_train_data_84_pca[:, 1]\n",
    "df_84_cluster_data.head()\n"
   ]
  },
  {
   "cell_type": "code",
   "execution_count": 26,
   "id": "29d7cb19",
   "metadata": {},
   "outputs": [
    {
     "data": {
      "text/plain": [
       "Text(0, 0.5, 'Principal component 2')"
      ]
     },
     "execution_count": 26,
     "metadata": {},
     "output_type": "execute_result"
    },
    {
     "data": {
      "image/png": "[encoded data removed]",
      "text/plain": [
       "<Figure size 432x288 with 1 Axes>"
      ]
     },
     "metadata": {
      "needs_background": "light"
     },
     "output_type": "display_data"
    }
   ],
   "source": [
    "# Plot the clusters\n",
    "cluster_1 = df_84_cluster_data.loc[ df_84_cluster_data['cluster_labels'] == 0, [ 'principal_component_1', 'principal_component_2' ] ]\n",
    "cluster_2 = df_84_cluster_data.loc[ df_84_cluster_data['cluster_labels'] == 1, [ 'principal_component_1', 'principal_component_2' ] ]\n",
    "cluster_3 = df_84_cluster_data.loc[ df_84_cluster_data['cluster_labels'] == 2, [ 'principal_component_1', 'principal_component_2' ] ]\n",
    "cluster_4 = df_84_cluster_data.loc[ df_84_cluster_data['cluster_labels'] == 3, [ 'principal_component_1', 'principal_component_2' ] ]\n",
    "\n",
    "plt.scatter( cluster_1['principal_component_1'], cluster_1['principal_component_2'], color='blue' )\n",
    "plt.scatter( cluster_2['principal_component_1'], cluster_2['principal_component_2'], color='red' )\n",
    "plt.scatter( cluster_3['principal_component_1'], cluster_3['principal_component_2'], color='yellow' )\n",
    "plt.scatter( cluster_4['principal_component_1'], cluster_4['principal_component_2'], color='black' )\n",
    "\n",
    "plt.legend(('cluster 1', 'cluster 2', 'cluster 3', 'cluster 4'))\n",
    "\n",
    "plt.title('Clustering result for products: (optimal number of clusters is 4)')\n",
    "plt.xlabel('Principal component 1')\n",
    "plt.ylabel('Principal component 2')\n"
   ]
  },
  {
   "cell_type": "code",
   "execution_count": 27,
   "id": "b20b50dd",
   "metadata": {},
   "outputs": [
    {
     "data": {
      "text/html": [
       "<div>\n",
       "<style scoped>\n",
       "    .dataframe tbody tr th:only-of-type {\n",
       "        vertical-align: middle;\n",
       "    }\n",
       "\n",
       "    .dataframe tbody tr th {\n",
       "        vertical-align: top;\n",
       "    }\n",
       "\n",
       "    .dataframe thead th {\n",
       "        text-align: right;\n",
       "    }\n",
       "</style>\n",
       "<table border=\"1\" class=\"dataframe\">\n",
       "  <thead>\n",
       "    <tr style=\"text-align: right;\">\n",
       "      <th></th>\n",
       "      <th>date_number</th>\n",
       "      <th>product_id</th>\n",
       "      <th>sales</th>\n",
       "      <th>stock</th>\n",
       "      <th>pos_count</th>\n",
       "      <th>pos_min</th>\n",
       "      <th>pos_max</th>\n",
       "      <th>pos_mean</th>\n",
       "      <th>block_id</th>\n",
       "      <th>num_items</th>\n",
       "      <th>family_id</th>\n",
       "      <th>subfamily_id</th>\n",
       "      <th>price</th>\n",
       "      <th>cluster_labels</th>\n",
       "    </tr>\n",
       "  </thead>\n",
       "  <tbody>\n",
       "    <tr>\n",
       "      <th>0</th>\n",
       "      <td>0</td>\n",
       "      <td>310130</td>\n",
       "      <td>11</td>\n",
       "      <td>461</td>\n",
       "      <td>3</td>\n",
       "      <td>3</td>\n",
       "      <td>80</td>\n",
       "      <td>54.333333</td>\n",
       "      <td>1726</td>\n",
       "      <td>8</td>\n",
       "      <td>679611953</td>\n",
       "      <td>533441312</td>\n",
       "      <td>12.95</td>\n",
       "      <td>3</td>\n",
       "    </tr>\n",
       "    <tr>\n",
       "      <th>1</th>\n",
       "      <td>1</td>\n",
       "      <td>310130</td>\n",
       "      <td>13</td>\n",
       "      <td>437</td>\n",
       "      <td>3</td>\n",
       "      <td>2</td>\n",
       "      <td>3</td>\n",
       "      <td>2.666667</td>\n",
       "      <td>1726</td>\n",
       "      <td>8</td>\n",
       "      <td>679611953</td>\n",
       "      <td>533441312</td>\n",
       "      <td>12.95</td>\n",
       "      <td>3</td>\n",
       "    </tr>\n",
       "    <tr>\n",
       "      <th>2</th>\n",
       "      <td>2</td>\n",
       "      <td>310130</td>\n",
       "      <td>14</td>\n",
       "      <td>435</td>\n",
       "      <td>3</td>\n",
       "      <td>2</td>\n",
       "      <td>8</td>\n",
       "      <td>6.000000</td>\n",
       "      <td>1726</td>\n",
       "      <td>8</td>\n",
       "      <td>679611953</td>\n",
       "      <td>533441312</td>\n",
       "      <td>12.95</td>\n",
       "      <td>3</td>\n",
       "    </tr>\n",
       "    <tr>\n",
       "      <th>3</th>\n",
       "      <td>3</td>\n",
       "      <td>310130</td>\n",
       "      <td>15</td>\n",
       "      <td>410</td>\n",
       "      <td>3</td>\n",
       "      <td>4</td>\n",
       "      <td>8</td>\n",
       "      <td>6.666667</td>\n",
       "      <td>1726</td>\n",
       "      <td>8</td>\n",
       "      <td>679611953</td>\n",
       "      <td>533441312</td>\n",
       "      <td>12.95</td>\n",
       "      <td>3</td>\n",
       "    </tr>\n",
       "    <tr>\n",
       "      <th>4</th>\n",
       "      <td>4</td>\n",
       "      <td>310130</td>\n",
       "      <td>17</td>\n",
       "      <td>538</td>\n",
       "      <td>3</td>\n",
       "      <td>4</td>\n",
       "      <td>8</td>\n",
       "      <td>6.666667</td>\n",
       "      <td>1726</td>\n",
       "      <td>8</td>\n",
       "      <td>679611953</td>\n",
       "      <td>533441312</td>\n",
       "      <td>12.95</td>\n",
       "      <td>3</td>\n",
       "    </tr>\n",
       "    <tr>\n",
       "      <th>...</th>\n",
       "      <td>...</td>\n",
       "      <td>...</td>\n",
       "      <td>...</td>\n",
       "      <td>...</td>\n",
       "      <td>...</td>\n",
       "      <td>...</td>\n",
       "      <td>...</td>\n",
       "      <td>...</td>\n",
       "      <td>...</td>\n",
       "      <td>...</td>\n",
       "      <td>...</td>\n",
       "      <td>...</td>\n",
       "      <td>...</td>\n",
       "      <td>...</td>\n",
       "    </tr>\n",
       "    <tr>\n",
       "      <th>539144</th>\n",
       "      <td>90</td>\n",
       "      <td>922173956</td>\n",
       "      <td>0</td>\n",
       "      <td>477</td>\n",
       "      <td>3</td>\n",
       "      <td>8</td>\n",
       "      <td>701</td>\n",
       "      <td>382.333333</td>\n",
       "      <td>925</td>\n",
       "      <td>2</td>\n",
       "      <td>396066037</td>\n",
       "      <td>756330372</td>\n",
       "      <td>19.95</td>\n",
       "      <td>1</td>\n",
       "    </tr>\n",
       "    <tr>\n",
       "      <th>539145</th>\n",
       "      <td>91</td>\n",
       "      <td>922173956</td>\n",
       "      <td>4</td>\n",
       "      <td>480</td>\n",
       "      <td>3</td>\n",
       "      <td>8</td>\n",
       "      <td>714</td>\n",
       "      <td>389.000000</td>\n",
       "      <td>925</td>\n",
       "      <td>2</td>\n",
       "      <td>396066037</td>\n",
       "      <td>756330372</td>\n",
       "      <td>19.95</td>\n",
       "      <td>1</td>\n",
       "    </tr>\n",
       "    <tr>\n",
       "      <th>539146</th>\n",
       "      <td>84</td>\n",
       "      <td>846517852</td>\n",
       "      <td>0</td>\n",
       "      <td>1</td>\n",
       "      <td>1</td>\n",
       "      <td>34</td>\n",
       "      <td>34</td>\n",
       "      <td>34.000000</td>\n",
       "      <td>513</td>\n",
       "      <td>7</td>\n",
       "      <td>512899033</td>\n",
       "      <td>29433772</td>\n",
       "      <td>4.95</td>\n",
       "      <td>3</td>\n",
       "    </tr>\n",
       "    <tr>\n",
       "      <th>539147</th>\n",
       "      <td>85</td>\n",
       "      <td>846517852</td>\n",
       "      <td>0</td>\n",
       "      <td>1</td>\n",
       "      <td>1</td>\n",
       "      <td>35</td>\n",
       "      <td>35</td>\n",
       "      <td>35.000000</td>\n",
       "      <td>513</td>\n",
       "      <td>7</td>\n",
       "      <td>512899033</td>\n",
       "      <td>29433772</td>\n",
       "      <td>4.95</td>\n",
       "      <td>3</td>\n",
       "    </tr>\n",
       "    <tr>\n",
       "      <th>539148</th>\n",
       "      <td>86</td>\n",
       "      <td>846517852</td>\n",
       "      <td>0</td>\n",
       "      <td>1</td>\n",
       "      <td>1</td>\n",
       "      <td>33</td>\n",
       "      <td>33</td>\n",
       "      <td>33.000000</td>\n",
       "      <td>513</td>\n",
       "      <td>7</td>\n",
       "      <td>512899033</td>\n",
       "      <td>29433772</td>\n",
       "      <td>4.95</td>\n",
       "      <td>3</td>\n",
       "    </tr>\n",
       "  </tbody>\n",
       "</table>\n",
       "<p>539149 rows × 14 columns</p>\n",
       "</div>"
      ],
      "text/plain": [
       "        date_number  product_id  sales  stock  pos_count  pos_min  pos_max  \\\n",
       "0                 0      310130     11    461          3        3       80   \n",
       "1                 1      310130     13    437          3        2        3   \n",
       "2                 2      310130     14    435          3        2        8   \n",
       "3                 3      310130     15    410          3        4        8   \n",
       "4                 4      310130     17    538          3        4        8   \n",
       "...             ...         ...    ...    ...        ...      ...      ...   \n",
       "539144           90   922173956      0    477          3        8      701   \n",
       "539145           91   922173956      4    480          3        8      714   \n",
       "539146           84   846517852      0      1          1       34       34   \n",
       "539147           85   846517852      0      1          1       35       35   \n",
       "539148           86   846517852      0      1          1       33       33   \n",
       "\n",
       "          pos_mean  block_id  num_items  family_id  subfamily_id  price  \\\n",
       "0        54.333333      1726          8  679611953     533441312  12.95   \n",
       "1         2.666667      1726          8  679611953     533441312  12.95   \n",
       "2         6.000000      1726          8  679611953     533441312  12.95   \n",
       "3         6.666667      1726          8  679611953     533441312  12.95   \n",
       "4         6.666667      1726          8  679611953     533441312  12.95   \n",
       "...            ...       ...        ...        ...           ...    ...   \n",
       "539144  382.333333       925          2  396066037     756330372  19.95   \n",
       "539145  389.000000       925          2  396066037     756330372  19.95   \n",
       "539146   34.000000       513          7  512899033      29433772   4.95   \n",
       "539147   35.000000       513          7  512899033      29433772   4.95   \n",
       "539148   33.000000       513          7  512899033      29433772   4.95   \n",
       "\n",
       "        cluster_labels  \n",
       "0                    3  \n",
       "1                    3  \n",
       "2                    3  \n",
       "3                    3  \n",
       "4                    3  \n",
       "...                ...  \n",
       "539144               1  \n",
       "539145               1  \n",
       "539146               3  \n",
       "539147               3  \n",
       "539148               3  \n",
       "\n",
       "[539149 rows x 14 columns]"
      ]
     },
     "execution_count": 27,
     "metadata": {},
     "output_type": "execute_result"
    }
   ],
   "source": [
    "# Adding cluster column to the original data as a new feature\n",
    "\n",
    "df_final=pd.merge(df_final, df_84_cluster_data[['product_id', 'cluster_labels']], on='product_id', how=\"inner\")\n",
    "df_final"
   ]
  },
  {
   "cell_type": "markdown",
   "id": "8955984e",
   "metadata": {},
   "source": [
    "### Part 2. Model Building ( Model Experiments)"
   ]
  },
  {
   "cell_type": "code",
   "execution_count": 28,
   "id": "6eb69a8f",
   "metadata": {},
   "outputs": [],
   "source": [
    "# Splitting train and test data ( last 7 days data is used as test data)\n",
    "\n",
    "df_train = df_final.loc[ df_final['date_number'] < 85, : ]\n",
    "df_test = df_final.loc[ df_final['date_number'] >= 85, : ]\n",
    "\n",
    "X_train = df_train.drop(['sales'], axis=1)\n",
    "y_train = df_train.loc[:,'sales']\n",
    "\n",
    "X_test = df_test.drop(['sales'], axis=1)\n",
    "y_test = df_test.loc[:,'sales']"
   ]
  },
  {
   "cell_type": "code",
   "execution_count": 29,
   "id": "385da144",
   "metadata": {},
   "outputs": [
    {
     "name": "stderr",
     "output_type": "stream",
     "text": [
      "[Parallel(n_jobs=-1)]: Using backend ThreadingBackend with 4 concurrent workers.\n",
      "[Parallel(n_jobs=-1)]: Done  42 tasks      | elapsed:  1.3min\n",
      "[Parallel(n_jobs=-1)]: Done 100 out of 100 | elapsed:  3.0min finished\n"
     ]
    },
    {
     "data": {
      "text/plain": [
       "RandomForestRegressor(n_jobs=-1, random_state=42, verbose=1)"
      ]
     },
     "execution_count": 29,
     "metadata": {},
     "output_type": "execute_result"
    }
   ],
   "source": [
    "# Model training with Random Forest\n",
    "\n",
    "rf = RandomForestRegressor(n_estimators=100, random_state=42, verbose=1, n_jobs=-1)\n",
    "rf.fit(X_train, y_train)"
   ]
  },
  {
   "cell_type": "code",
   "execution_count": 30,
   "id": "d4173083",
   "metadata": {},
   "outputs": [
    {
     "name": "stderr",
     "output_type": "stream",
     "text": [
      "[Parallel(n_jobs=4)]: Using backend ThreadingBackend with 4 concurrent workers.\n",
      "[Parallel(n_jobs=4)]: Done  42 tasks      | elapsed:    1.1s\n",
      "[Parallel(n_jobs=4)]: Done 100 out of 100 | elapsed:    2.1s finished\n"
     ]
    }
   ],
   "source": [
    "# Use the random forest's predict method on the test data\n",
    "predictions = rf.predict(X_test)"
   ]
  },
  {
   "cell_type": "code",
   "execution_count": 31,
   "id": "442fe86a",
   "metadata": {},
   "outputs": [
    {
     "name": "stdout",
     "output_type": "stream",
     "text": [
      "R-squared score: 0.4085792891638239\n"
     ]
    }
   ],
   "source": [
    "# Calculate the R^2 score\n",
    "r2_score_value = r2_score(y_test, predictions)\n",
    "\n",
    "# Print out the R^2 score\n",
    "print('R-squared score:', r2_score_value)"
   ]
  },
  {
   "cell_type": "code",
   "execution_count": 149,
   "id": "f50ccfe8",
   "metadata": {},
   "outputs": [
    {
     "data": {
      "text/plain": [
       "XGBRegressor(base_score=0.5, booster='gbtree', callbacks=None,\n",
       "             colsample_bylevel=1, colsample_bynode=1, colsample_bytree=0.8,\n",
       "             early_stopping_rounds=None, enable_categorical=False, eta=0.1,\n",
       "             eval_metric=None, feature_types=None, gamma=0, gpu_id=-1,\n",
       "             grow_policy='depthwise', importance_type=None,\n",
       "             interaction_constraints='', learning_rate=0.100000001, max_bin=256,\n",
       "             max_cat_threshold=64, max_cat_to_onehot=4, max_delta_step=0,\n",
       "             max_depth=7, max_leaves=0, min_child_weight=1, missing=nan,\n",
       "             monotone_constraints='()', n_estimators=100, n_jobs=0,\n",
       "             num_parallel_tree=1, predictor='auto', ...)"
      ]
     },
     "execution_count": 149,
     "metadata": {},
     "output_type": "execute_result"
    }
   ],
   "source": [
    "# Model training with XGBoost (experiment1: n_estimators=100, max_depth=7)\n",
    "\n",
    "model_xgb = XGBRegressor(n_estimators=100, max_depth=7, eta=0.1, subsample=0.7, colsample_bytree=0.8)\n",
    "\n",
    "model_xgb.fit(X_train, y_train)"
   ]
  },
  {
   "cell_type": "code",
   "execution_count": 150,
   "id": "dd2aeeb2",
   "metadata": {},
   "outputs": [],
   "source": [
    "# Use the XGBoost's predict method on the test data\n",
    "predictions_xgb = model_xgb.predict(X_test)"
   ]
  },
  {
   "cell_type": "code",
   "execution_count": 151,
   "id": "60f2ec12",
   "metadata": {},
   "outputs": [
    {
     "name": "stdout",
     "output_type": "stream",
     "text": [
      "R-squared score: 0.48083822157779954\n"
     ]
    }
   ],
   "source": [
    "# Calculate the R^2 score\n",
    "r2_score_value = r2_score(y_test, predictions_xgb)\n",
    "\n",
    "# Print out the R^2 score for the XGBoost model\n",
    "print('R-squared score:', r2_score_value)"
   ]
  },
  {
   "cell_type": "code",
   "execution_count": 152,
   "id": "e5bce949",
   "metadata": {},
   "outputs": [
    {
     "data": {
      "text/plain": [
       "XGBRegressor(base_score=0.5, booster='gbtree', callbacks=None,\n",
       "             colsample_bylevel=1, colsample_bynode=1, colsample_bytree=0.8,\n",
       "             early_stopping_rounds=None, enable_categorical=False, eta=0.1,\n",
       "             eval_metric=None, feature_types=None, gamma=0, gpu_id=-1,\n",
       "             grow_policy='depthwise', importance_type=None,\n",
       "             interaction_constraints='', learning_rate=0.100000001, max_bin=256,\n",
       "             max_cat_threshold=64, max_cat_to_onehot=4, max_delta_step=0,\n",
       "             max_depth=10, max_leaves=0, min_child_weight=1, missing=nan,\n",
       "             monotone_constraints='()', n_estimators=200, n_jobs=0,\n",
       "             num_parallel_tree=1, predictor='auto', ...)"
      ]
     },
     "execution_count": 152,
     "metadata": {},
     "output_type": "execute_result"
    }
   ],
   "source": [
    "# Model training with XGBoost (experiment2: n_estimators=200, max_depth=10)\n",
    "\n",
    "model_xgb_2 = XGBRegressor(n_estimators=200, max_depth=10, eta=0.1, subsample=0.7, colsample_bytree=0.8)\n",
    "\n",
    "model_xgb_2.fit(X_train, y_train)"
   ]
  },
  {
   "cell_type": "code",
   "execution_count": 154,
   "id": "4b94277c",
   "metadata": {},
   "outputs": [],
   "source": [
    "# Use the XGBoost's predict method on the test data\n",
    "predictions_xgb_2 = model_xgb_2.predict(X_test)"
   ]
  },
  {
   "cell_type": "code",
   "execution_count": 155,
   "id": "37c29f92",
   "metadata": {},
   "outputs": [
    {
     "name": "stdout",
     "output_type": "stream",
     "text": [
      "R-squared score: 0.5914151175263138\n"
     ]
    }
   ],
   "source": [
    "# Calculate the R^2 score\n",
    "r2_score_value_2 = r2_score(y_test, predictions_xgb_2)\n",
    "\n",
    "# Print out the R^2 score for the XGBoost model\n",
    "print('R-squared score:', r2_score_value_2)"
   ]
  },
  {
   "cell_type": "code",
   "execution_count": 32,
   "id": "5bce1de6",
   "metadata": {},
   "outputs": [
    {
     "name": "stdout",
     "output_type": "stream",
     "text": [
      "R-squared score: 0.6002969491653545\n"
     ]
    }
   ],
   "source": [
    "# Model training with XGBoost (experiment 3: n_estimators=300, max_depth=10)\n",
    "\n",
    "model_xgb_3 = XGBRegressor(n_estimators=300, max_depth=10, eta=0.1, subsample=0.7, colsample_bytree=0.8)\n",
    "\n",
    "model_xgb_3.fit(X_train, y_train)\n",
    "\n",
    "# Use the XGBoost's predict method on the test data\n",
    "predictions_xgb_3 = model_xgb_3.predict(X_test)\n",
    "\n",
    "# Calculate the R^2 score\n",
    "r2_score_value_3 = r2_score(y_test, predictions_xgb_3)\n",
    "\n",
    "# Print out the R^2 score for the XGBoost model\n",
    "print('R-squared score:', r2_score_value_3)"
   ]
  },
  {
   "cell_type": "code",
   "execution_count": 51,
   "id": "634c8033",
   "metadata": {},
   "outputs": [
    {
     "data": {
      "text/plain": [
       "<BarContainer object of 13 artists>"
      ]
     },
     "execution_count": 51,
     "metadata": {},
     "output_type": "execute_result"
    },
    {
     "data": {
      "image/png": "[encoded data removed]",
      "text/plain": [
       "<Figure size 432x288 with 1 Axes>"
      ]
     },
     "metadata": {
      "needs_background": "light"
     },
     "output_type": "display_data"
    }
   ],
   "source": [
    "# Checking the feature imporance of the XG boost 3rd experiment\n",
    "feature_names = [ 'date_number', 'product_id', 'stock', 'pos_count', 'pos_min',\n",
    "       'pos_max', 'pos_mean', 'block_id', 'num_items', 'family_id',\n",
    "       'subfamily_id', 'price', 'cluster_labels' ]\n",
    "model_xgb_3.feature_importances_\n",
    "\n",
    "XGB_4_feat_imp = pd.DataFrame( model_xgb_3.feature_importances_, columns=['feature importances'] )\n",
    "XGB_4_feat_imp['features'] = feature_names\n",
    "XGB_4_feat_imp.sort_values('feature importances', ascending=True, inplace=True)\n",
    "\n",
    "plt.barh(XGB_4_feat_imp['features'], XGB_4_feat_imp['feature importances'])"
   ]
  },
  {
   "cell_type": "code",
   "execution_count": null,
   "id": "c8ce172f",
   "metadata": {},
   "outputs": [],
   "source": []
  },
  {
   "cell_type": "code",
   "execution_count": null,
   "id": "12e341e2",
   "metadata": {},
   "outputs": [],
   "source": []
  },
  {
   "cell_type": "code",
   "execution_count": 37,
   "id": "bd3f9d01",
   "metadata": {},
   "outputs": [],
   "source": [
    "#Removing the 'sales', 'pos_min', 'pos_max', 'pos_mean' as they showed least feature importance\n",
    "\n",
    "X_train_2 = df_train.drop(['sales', 'pos_min', 'pos_max', 'pos_mean'], axis=1)\n",
    "y_train_2 = df_train.loc[:,'sales']\n",
    "\n",
    "X_test_2 = df_test.drop(['sales', 'pos_min', 'pos_max', 'pos_mean'], axis=1)\n",
    "y_test_2 = df_test.loc[:,'sales']"
   ]
  },
  {
   "cell_type": "code",
   "execution_count": 38,
   "id": "486aa184",
   "metadata": {},
   "outputs": [
    {
     "name": "stdout",
     "output_type": "stream",
     "text": [
      "R-squared score: 0.6110690009488817\n"
     ]
    }
   ],
   "source": [
    "# Model building with XG boost with fewer features\n",
    "\n",
    "model_xgb_4 = XGBRegressor(n_estimators=300, max_depth=10, eta=0.1, subsample=0.7, colsample_bytree=0.8)\n",
    "\n",
    "model_xgb_4.fit(X_train_2, y_train_2)\n",
    "\n",
    "# Use the XGBoost's predict method on the test data\n",
    "predictions_xgb_4 = model_xgb_4.predict(X_test_2)\n",
    "\n",
    "# Calculate the R^2 score\n",
    "r2_score_value_4 = r2_score(y_test_2, predictions_xgb_4)\n",
    "\n",
    "# Print out the R^2 score for the XGBoost model\n",
    "print('R-squared score :', r2_score_value_4)"
   ]
  },
  {
   "cell_type": "code",
   "execution_count": 52,
   "id": "2cc4d31e",
   "metadata": {},
   "outputs": [
    {
     "name": "stdout",
     "output_type": "stream",
     "text": [
      "Epoch 1/10\n",
      "13696/13696 [==============================] - 35s 2ms/step - loss: 1767490715648.0000 - r_square: -11756588032.0000 - val_loss: 217.3642 - val_r_square: -0.0504\n",
      "Epoch 2/10\n",
      "13696/13696 [==============================] - 31s 2ms/step - loss: 150.3618 - r_square: -1.3936e-04 - val_loss: 216.4183 - val_r_square: -0.0459\n",
      "Epoch 3/10\n",
      "13696/13696 [==============================] - 29s 2ms/step - loss: 150.3588 - r_square: -1.2040e-04 - val_loss: 215.1475 - val_r_square: -0.0397\n",
      "Epoch 4/10\n",
      "13696/13696 [==============================] - 30s 2ms/step - loss: 150.3578 - r_square: -1.1337e-04 - val_loss: 215.7763 - val_r_square: -0.0428\n",
      "Epoch 5/10\n",
      "13696/13696 [==============================] - 29s 2ms/step - loss: 150.3617 - r_square: -1.3888e-04 - val_loss: 216.2170 - val_r_square: -0.0449\n",
      "Epoch 6/10\n",
      "13696/13696 [==============================] - 30s 2ms/step - loss: 150.3591 - r_square: -1.2374e-04 - val_loss: 215.1849 - val_r_square: -0.0399\n",
      "Epoch 7/10\n",
      "13696/13696 [==============================] - 28s 2ms/step - loss: 150.3591 - r_square: -1.2469e-04 - val_loss: 215.9763 - val_r_square: -0.0437\n",
      "Epoch 8/10\n",
      "13696/13696 [==============================] - 28s 2ms/step - loss: 150.3613 - r_square: -1.3399e-04 - val_loss: 216.1662 - val_r_square: -0.0447\n",
      "Epoch 9/10\n",
      "13696/13696 [==============================] - 28s 2ms/step - loss: 150.3585 - r_square: -1.1909e-04 - val_loss: 216.7542 - val_r_square: -0.0475\n",
      "Epoch 10/10\n",
      "13696/13696 [==============================] - 27s 2ms/step - loss: 150.3584 - r_square: -1.2076e-04 - val_loss: 216.1106 - val_r_square: -0.0444\n",
      "1632/1632 [==============================] - 2s 1ms/step\n",
      "R-squared score: -3.340532347850811e-06\n"
     ]
    }
   ],
   "source": [
    "# Model building with deep learning\n",
    "model = models.Sequential()\n",
    "\n",
    "model.add(layers.Dense(20, activation='relu', input_shape=[X_train_2.shape[1]]))\n",
    "model.add(layers.Dense(30, activation='relu'))\n",
    "\n",
    "# output layer\n",
    "model.add(layers.Dense(1))\n",
    "model.compile(loss='mse', optimizer='rmsprop', metrics=[RSquare()])\n",
    "history = model.fit(X_train_2, y_train_2, validation_split=0.1, epochs=10)\n",
    "\n",
    "predictions_dl = model.predict(X_test_2)\n",
    "\n",
    "# Calculate the R^2 score\n",
    "r2_score_value_dl = r2_score(y_test_2, predictions_dl)\n",
    "\n",
    "# Print out the R^2 score for the XGBoost model\n",
    "print('R-squared score:', r2_score_value_dl)"
   ]
  },
  {
   "cell_type": "markdown",
   "id": "c5a96826",
   "metadata": {},
   "source": [
    "### Part 3. Accuracy for top 100 products (by revenue) predicted vs actual"
   ]
  },
  {
   "cell_type": "code",
   "execution_count": 58,
   "id": "7640b9e3",
   "metadata": {},
   "outputs": [
    {
     "data": {
      "text/html": [
       "<div>\n",
       "<style scoped>\n",
       "    .dataframe tbody tr th:only-of-type {\n",
       "        vertical-align: middle;\n",
       "    }\n",
       "\n",
       "    .dataframe tbody tr th {\n",
       "        vertical-align: top;\n",
       "    }\n",
       "\n",
       "    .dataframe thead th {\n",
       "        text-align: right;\n",
       "    }\n",
       "</style>\n",
       "<table border=\"1\" class=\"dataframe\">\n",
       "  <thead>\n",
       "    <tr style=\"text-align: right;\">\n",
       "      <th></th>\n",
       "      <th>date_number</th>\n",
       "      <th>product_id</th>\n",
       "      <th>stock</th>\n",
       "      <th>pos_count</th>\n",
       "      <th>pos_min</th>\n",
       "      <th>pos_max</th>\n",
       "      <th>pos_mean</th>\n",
       "      <th>block_id</th>\n",
       "      <th>num_items</th>\n",
       "      <th>family_id</th>\n",
       "      <th>subfamily_id</th>\n",
       "      <th>price</th>\n",
       "      <th>cluster_labels</th>\n",
       "      <th>sales_prediction_xgb_3</th>\n",
       "      <th>product_revenue_xgb_3</th>\n",
       "      <th>actual_sales</th>\n",
       "      <th>actual_revenue</th>\n",
       "    </tr>\n",
       "  </thead>\n",
       "  <tbody>\n",
       "    <tr>\n",
       "      <th>84</th>\n",
       "      <td>85</td>\n",
       "      <td>310130</td>\n",
       "      <td>334</td>\n",
       "      <td>1</td>\n",
       "      <td>49</td>\n",
       "      <td>49</td>\n",
       "      <td>49.0</td>\n",
       "      <td>1726</td>\n",
       "      <td>8</td>\n",
       "      <td>679611953</td>\n",
       "      <td>533441312</td>\n",
       "      <td>12.95</td>\n",
       "      <td>3</td>\n",
       "      <td>4.210908</td>\n",
       "      <td>54.531264</td>\n",
       "      <td>3</td>\n",
       "      <td>38.85</td>\n",
       "    </tr>\n",
       "    <tr>\n",
       "      <th>85</th>\n",
       "      <td>86</td>\n",
       "      <td>310130</td>\n",
       "      <td>337</td>\n",
       "      <td>1</td>\n",
       "      <td>48</td>\n",
       "      <td>48</td>\n",
       "      <td>48.0</td>\n",
       "      <td>1726</td>\n",
       "      <td>8</td>\n",
       "      <td>679611953</td>\n",
       "      <td>533441312</td>\n",
       "      <td>12.95</td>\n",
       "      <td>3</td>\n",
       "      <td>4.585373</td>\n",
       "      <td>59.380586</td>\n",
       "      <td>2</td>\n",
       "      <td>25.90</td>\n",
       "    </tr>\n",
       "    <tr>\n",
       "      <th>86</th>\n",
       "      <td>87</td>\n",
       "      <td>310130</td>\n",
       "      <td>332</td>\n",
       "      <td>1</td>\n",
       "      <td>48</td>\n",
       "      <td>48</td>\n",
       "      <td>48.0</td>\n",
       "      <td>1726</td>\n",
       "      <td>8</td>\n",
       "      <td>679611953</td>\n",
       "      <td>533441312</td>\n",
       "      <td>12.95</td>\n",
       "      <td>3</td>\n",
       "      <td>4.845256</td>\n",
       "      <td>62.746069</td>\n",
       "      <td>3</td>\n",
       "      <td>38.85</td>\n",
       "    </tr>\n",
       "    <tr>\n",
       "      <th>87</th>\n",
       "      <td>88</td>\n",
       "      <td>310130</td>\n",
       "      <td>331</td>\n",
       "      <td>1</td>\n",
       "      <td>47</td>\n",
       "      <td>47</td>\n",
       "      <td>47.0</td>\n",
       "      <td>1726</td>\n",
       "      <td>8</td>\n",
       "      <td>679611953</td>\n",
       "      <td>533441312</td>\n",
       "      <td>12.95</td>\n",
       "      <td>3</td>\n",
       "      <td>4.845256</td>\n",
       "      <td>62.746069</td>\n",
       "      <td>2</td>\n",
       "      <td>25.90</td>\n",
       "    </tr>\n",
       "    <tr>\n",
       "      <th>88</th>\n",
       "      <td>89</td>\n",
       "      <td>310130</td>\n",
       "      <td>323</td>\n",
       "      <td>1</td>\n",
       "      <td>48</td>\n",
       "      <td>48</td>\n",
       "      <td>48.0</td>\n",
       "      <td>1726</td>\n",
       "      <td>8</td>\n",
       "      <td>679611953</td>\n",
       "      <td>533441312</td>\n",
       "      <td>12.95</td>\n",
       "      <td>3</td>\n",
       "      <td>4.724742</td>\n",
       "      <td>61.185408</td>\n",
       "      <td>4</td>\n",
       "      <td>51.80</td>\n",
       "    </tr>\n",
       "  </tbody>\n",
       "</table>\n",
       "</div>"
      ],
      "text/plain": [
       "    date_number  product_id  stock  pos_count  pos_min  pos_max  pos_mean  \\\n",
       "84           85      310130    334          1       49       49      49.0   \n",
       "85           86      310130    337          1       48       48      48.0   \n",
       "86           87      310130    332          1       48       48      48.0   \n",
       "87           88      310130    331          1       47       47      47.0   \n",
       "88           89      310130    323          1       48       48      48.0   \n",
       "\n",
       "    block_id  num_items  family_id  subfamily_id  price  cluster_labels  \\\n",
       "84      1726          8  679611953     533441312  12.95               3   \n",
       "85      1726          8  679611953     533441312  12.95               3   \n",
       "86      1726          8  679611953     533441312  12.95               3   \n",
       "87      1726          8  679611953     533441312  12.95               3   \n",
       "88      1726          8  679611953     533441312  12.95               3   \n",
       "\n",
       "    sales_prediction_xgb_3  product_revenue_xgb_3  actual_sales  \\\n",
       "84                4.210908              54.531264             3   \n",
       "85                4.585373              59.380586             2   \n",
       "86                4.845256              62.746069             3   \n",
       "87                4.845256              62.746069             2   \n",
       "88                4.724742              61.185408             4   \n",
       "\n",
       "    actual_revenue  \n",
       "84           38.85  \n",
       "85           25.90  \n",
       "86           38.85  \n",
       "87           25.90  \n",
       "88           51.80  "
      ]
     },
     "execution_count": 58,
     "metadata": {},
     "output_type": "execute_result"
    }
   ],
   "source": [
    "\n",
    "\n",
    "# Adding revenue columns to both train and test data \n",
    "\n",
    "X_test['sales_prediction_xgb_3'] = predictions_xgb_3\n",
    "X_test['product_revenue_xgb_3'] = X_test['sales_prediction_xgb_3'] * X_test['price']\n",
    "\n",
    "X_test['actual_sales'] = y_test\n",
    "X_test['actual_revenue'] = X_test['actual_sales'] * X_test['price']\n",
    "\n",
    "X_test.head()"
   ]
  },
  {
   "cell_type": "code",
   "execution_count": 63,
   "id": "a4038fce",
   "metadata": {},
   "outputs": [],
   "source": [
    "# Defining a function that calcutes the overlapping percentage for top 100 products predicted vs actual\n",
    "\n",
    "def best_performing_products_predicted( X_test, date_number_value ):\n",
    "    \n",
    "    product_perf_85 = X_test.loc[ X_test['date_number'] == date_number_value, : ].sort_values('product_revenue_xgb_3', ascending=False).reset_index(drop=True)\n",
    "    product_perf_85 = product_perf_85.head(100)\n",
    "    product_perf_85.head()\n",
    "    \n",
    "    product_perf_actual_85 = X_test.loc[ X_test['date_number'] == date_number_value, : ].sort_values('actual_revenue', ascending=False).reset_index(drop=True)\n",
    "    product_perf_actual_85 = product_perf_actual_85.head(100)\n",
    "    product_perf_actual_85.head()\n",
    "    \n",
    "    predict_products = list(product_perf_85['product_id'].values)\n",
    "    actual_products = list(product_perf_actual_85['product_id'].values)\n",
    "    \n",
    "    common_products = set(predict_products).intersection(actual_products)\n",
    "    portion_of_products_predicted = len(common_products) / 100\n",
    "    \n",
    "    return portion_of_products_predicted\n"
   ]
  },
  {
   "cell_type": "code",
   "execution_count": 64,
   "id": "d749b17f",
   "metadata": {},
   "outputs": [
    {
     "name": "stdout",
     "output_type": "stream",
     "text": [
      "Correctly predicted best performing products portion for day 85 is 0.66.\n"
     ]
    }
   ],
   "source": [
    "# Day 85\n",
    "\n",
    "prediction_rate_best_performing_products_day_85 = best_performing_products_predicted( X_test, date_number_value=85 )\n",
    "\n",
    "print(f\"Correctly predicted best performing products portion for day {85} is {prediction_rate_best_performing_products_day_85}.\")\n"
   ]
  },
  {
   "cell_type": "code",
   "execution_count": 66,
   "id": "4bc771fc",
   "metadata": {},
   "outputs": [
    {
     "name": "stdout",
     "output_type": "stream",
     "text": [
      "Correctly predicted best performing products portion for day 86 is 0.61.\n"
     ]
    }
   ],
   "source": [
    "# Day 86\n",
    "\n",
    "prediction_rate_best_performing_products_day_86 = best_performing_products_predicted( X_test, date_number_value=86 )\n",
    "\n",
    "print(f\"Correctly predicted best performing products portion for day {86} is {prediction_rate_best_performing_products_day_86}.\")\n"
   ]
  },
  {
   "cell_type": "code",
   "execution_count": 67,
   "id": "6076f6bb",
   "metadata": {},
   "outputs": [
    {
     "name": "stdout",
     "output_type": "stream",
     "text": [
      "Correctly predicted best performing products portion for day 87 is 0.5.\n"
     ]
    }
   ],
   "source": [
    "# Day 87\n",
    "\n",
    "prediction_rate_best_performing_products_day_87 = best_performing_products_predicted( X_test, date_number_value=87 )\n",
    "\n",
    "print(f\"Correctly predicted best performing products portion for day {87} is {prediction_rate_best_performing_products_day_87}.\")\n"
   ]
  },
  {
   "cell_type": "code",
   "execution_count": 69,
   "id": "62f24f6e",
   "metadata": {},
   "outputs": [
    {
     "name": "stdout",
     "output_type": "stream",
     "text": [
      "Correctly predicted best performing products portion for day 88 is 0.49.\n"
     ]
    }
   ],
   "source": [
    "# Day 88\n",
    "\n",
    "prediction_rate_best_performing_products_day_88 = best_performing_products_predicted( X_test, date_number_value=88 )\n",
    "\n",
    "print(f\"Correctly predicted best performing products portion for day {88} is {prediction_rate_best_performing_products_day_88}.\")\n"
   ]
  },
  {
   "cell_type": "code",
   "execution_count": 70,
   "id": "15731be8",
   "metadata": {},
   "outputs": [
    {
     "name": "stdout",
     "output_type": "stream",
     "text": [
      "Correctly predicted best performing products portion for day 89 is 0.45.\n"
     ]
    }
   ],
   "source": [
    "# Day 89\n",
    "\n",
    "prediction_rate_best_performing_products_day_89 = best_performing_products_predicted( X_test, date_number_value=89 )\n",
    "\n",
    "print(f\"Correctly predicted best performing products portion for day {89} is {prediction_rate_best_performing_products_day_89}.\")\n"
   ]
  },
  {
   "cell_type": "code",
   "execution_count": 71,
   "id": "a77ea0ec",
   "metadata": {},
   "outputs": [
    {
     "name": "stdout",
     "output_type": "stream",
     "text": [
      "Correctly predicted best performing products portion for day 90 is 0.45.\n"
     ]
    }
   ],
   "source": [
    "# Day 90\n",
    "\n",
    "prediction_rate_best_performing_products_day_90 = best_performing_products_predicted( X_test, date_number_value=90 )\n",
    "\n",
    "print(f\"Correctly predicted best performing products portion for day {90} is {prediction_rate_best_performing_products_day_90}.\")\n"
   ]
  },
  {
   "cell_type": "code",
   "execution_count": 72,
   "id": "bc610897",
   "metadata": {},
   "outputs": [
    {
     "name": "stdout",
     "output_type": "stream",
     "text": [
      "Correctly predicted best performing products portion for day 91 is 0.51.\n"
     ]
    }
   ],
   "source": [
    "# Day 91\n",
    "\n",
    "prediction_rate_best_performing_products_day_91 = best_performing_products_predicted( X_test, date_number_value=91 )\n",
    "\n",
    "print(f\"Correctly predicted best performing products portion for day {91} is {prediction_rate_best_performing_products_day_91}.\")\n"
   ]
  },
  {
   "cell_type": "code",
   "execution_count": null,
   "id": "5e58365f",
   "metadata": {},
   "outputs": [],
   "source": []
  },
  {
   "cell_type": "code",
   "execution_count": null,
   "id": "af1b6bea",
   "metadata": {},
   "outputs": [],
   "source": []
  }
 ],
 "metadata": {
  "kernelspec": {
   "display_name": "Python 3 (ipykernel)",
   "language": "python",
   "name": "python3"
  },
  "language_info": {
   "codemirror_mode": {
    "name": "ipython",
    "version": 3
   },
   "file_extension": ".py",
   "mimetype": "text/x-python",
   "name": "python",
   "nbconvert_exporter": "python",
   "pygments_lexer": "ipython3",
   "version": "3.9.13"
  }
 },
 "nbformat": 4,
 "nbformat_minor": 5
}
